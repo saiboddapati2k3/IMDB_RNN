{
 "cells": [
  {
   "cell_type": "code",
   "execution_count": 14,
   "metadata": {},
   "outputs": [],
   "source": [
    "# Step 1: Import Libraries and Load the Model\n",
    "import numpy as np\n",
    "import tensorflow as tf\n",
    "from tensorflow.keras.datasets import imdb\n",
    "from tensorflow.keras.preprocessing import sequence\n",
    "from tensorflow.keras.models import load_model"
   ]
  },
  {
   "cell_type": "code",
   "execution_count": 15,
   "metadata": {},
   "outputs": [],
   "source": [
    "\n",
    "# Load the IMDB dataset word index\n",
    "word_index = imdb.get_word_index()\n",
    "reverse_word_index = {value: key for key, value in word_index.items()}"
   ]
  },
  {
   "cell_type": "code",
   "execution_count": 16,
   "metadata": {},
   "outputs": [
    {
     "name": "stderr",
     "output_type": "stream",
     "text": [
      "WARNING:absl:Compiled the loaded model, but the compiled metrics have yet to be built. `model.compile_metrics` will be empty until you train or evaluate the model.\n"
     ]
    },
    {
     "data": {
      "text/html": [
       "<pre style=\"white-space:pre;overflow-x:auto;line-height:normal;font-family:Menlo,'DejaVu Sans Mono',consolas,'Courier New',monospace\"><span style=\"font-weight: bold\">Model: \"sequential_1\"</span>\n",
       "</pre>\n"
      ],
      "text/plain": [
       "\u001b[1mModel: \"sequential_1\"\u001b[0m\n"
      ]
     },
     "metadata": {},
     "output_type": "display_data"
    },
    {
     "data": {
      "text/html": [
       "<pre style=\"white-space:pre;overflow-x:auto;line-height:normal;font-family:Menlo,'DejaVu Sans Mono',consolas,'Courier New',monospace\">┏━━━━━━━━━━━━━━━━━━━━━━━━━━━━━━━━━┳━━━━━━━━━━━━━━━━━━━━━━━━┳━━━━━━━━━━━━━━━┓\n",
       "┃<span style=\"font-weight: bold\"> Layer (type)                    </span>┃<span style=\"font-weight: bold\"> Output Shape           </span>┃<span style=\"font-weight: bold\">       Param # </span>┃\n",
       "┡━━━━━━━━━━━━━━━━━━━━━━━━━━━━━━━━━╇━━━━━━━━━━━━━━━━━━━━━━━━╇━━━━━━━━━━━━━━━┩\n",
       "│ embedding_1 (<span style=\"color: #0087ff; text-decoration-color: #0087ff\">Embedding</span>)         │ (<span style=\"color: #00af00; text-decoration-color: #00af00\">32</span>, <span style=\"color: #00af00; text-decoration-color: #00af00\">500</span>, <span style=\"color: #00af00; text-decoration-color: #00af00\">128</span>)         │     <span style=\"color: #00af00; text-decoration-color: #00af00\">1,280,000</span> │\n",
       "├─────────────────────────────────┼────────────────────────┼───────────────┤\n",
       "│ simple_rnn_1 (<span style=\"color: #0087ff; text-decoration-color: #0087ff\">SimpleRNN</span>)        │ (<span style=\"color: #00af00; text-decoration-color: #00af00\">32</span>, <span style=\"color: #00af00; text-decoration-color: #00af00\">128</span>)              │        <span style=\"color: #00af00; text-decoration-color: #00af00\">32,896</span> │\n",
       "├─────────────────────────────────┼────────────────────────┼───────────────┤\n",
       "│ dense_1 (<span style=\"color: #0087ff; text-decoration-color: #0087ff\">Dense</span>)                 │ (<span style=\"color: #00af00; text-decoration-color: #00af00\">32</span>, <span style=\"color: #00af00; text-decoration-color: #00af00\">1</span>)                │           <span style=\"color: #00af00; text-decoration-color: #00af00\">129</span> │\n",
       "└─────────────────────────────────┴────────────────────────┴───────────────┘\n",
       "</pre>\n"
      ],
      "text/plain": [
       "┏━━━━━━━━━━━━━━━━━━━━━━━━━━━━━━━━━┳━━━━━━━━━━━━━━━━━━━━━━━━┳━━━━━━━━━━━━━━━┓\n",
       "┃\u001b[1m \u001b[0m\u001b[1mLayer (type)                   \u001b[0m\u001b[1m \u001b[0m┃\u001b[1m \u001b[0m\u001b[1mOutput Shape          \u001b[0m\u001b[1m \u001b[0m┃\u001b[1m \u001b[0m\u001b[1m      Param #\u001b[0m\u001b[1m \u001b[0m┃\n",
       "┡━━━━━━━━━━━━━━━━━━━━━━━━━━━━━━━━━╇━━━━━━━━━━━━━━━━━━━━━━━━╇━━━━━━━━━━━━━━━┩\n",
       "│ embedding_1 (\u001b[38;5;33mEmbedding\u001b[0m)         │ (\u001b[38;5;34m32\u001b[0m, \u001b[38;5;34m500\u001b[0m, \u001b[38;5;34m128\u001b[0m)         │     \u001b[38;5;34m1,280,000\u001b[0m │\n",
       "├─────────────────────────────────┼────────────────────────┼───────────────┤\n",
       "│ simple_rnn_1 (\u001b[38;5;33mSimpleRNN\u001b[0m)        │ (\u001b[38;5;34m32\u001b[0m, \u001b[38;5;34m128\u001b[0m)              │        \u001b[38;5;34m32,896\u001b[0m │\n",
       "├─────────────────────────────────┼────────────────────────┼───────────────┤\n",
       "│ dense_1 (\u001b[38;5;33mDense\u001b[0m)                 │ (\u001b[38;5;34m32\u001b[0m, \u001b[38;5;34m1\u001b[0m)                │           \u001b[38;5;34m129\u001b[0m │\n",
       "└─────────────────────────────────┴────────────────────────┴───────────────┘\n"
      ]
     },
     "metadata": {},
     "output_type": "display_data"
    },
    {
     "data": {
      "text/html": [
       "<pre style=\"white-space:pre;overflow-x:auto;line-height:normal;font-family:Menlo,'DejaVu Sans Mono',consolas,'Courier New',monospace\"><span style=\"font-weight: bold\"> Total params: </span><span style=\"color: #00af00; text-decoration-color: #00af00\">1,313,027</span> (5.01 MB)\n",
       "</pre>\n"
      ],
      "text/plain": [
       "\u001b[1m Total params: \u001b[0m\u001b[38;5;34m1,313,027\u001b[0m (5.01 MB)\n"
      ]
     },
     "metadata": {},
     "output_type": "display_data"
    },
    {
     "data": {
      "text/html": [
       "<pre style=\"white-space:pre;overflow-x:auto;line-height:normal;font-family:Menlo,'DejaVu Sans Mono',consolas,'Courier New',monospace\"><span style=\"font-weight: bold\"> Trainable params: </span><span style=\"color: #00af00; text-decoration-color: #00af00\">1,313,025</span> (5.01 MB)\n",
       "</pre>\n"
      ],
      "text/plain": [
       "\u001b[1m Trainable params: \u001b[0m\u001b[38;5;34m1,313,025\u001b[0m (5.01 MB)\n"
      ]
     },
     "metadata": {},
     "output_type": "display_data"
    },
    {
     "data": {
      "text/html": [
       "<pre style=\"white-space:pre;overflow-x:auto;line-height:normal;font-family:Menlo,'DejaVu Sans Mono',consolas,'Courier New',monospace\"><span style=\"font-weight: bold\"> Non-trainable params: </span><span style=\"color: #00af00; text-decoration-color: #00af00\">0</span> (0.00 B)\n",
       "</pre>\n"
      ],
      "text/plain": [
       "\u001b[1m Non-trainable params: \u001b[0m\u001b[38;5;34m0\u001b[0m (0.00 B)\n"
      ]
     },
     "metadata": {},
     "output_type": "display_data"
    },
    {
     "data": {
      "text/html": [
       "<pre style=\"white-space:pre;overflow-x:auto;line-height:normal;font-family:Menlo,'DejaVu Sans Mono',consolas,'Courier New',monospace\"><span style=\"font-weight: bold\"> Optimizer params: </span><span style=\"color: #00af00; text-decoration-color: #00af00\">2</span> (12.00 B)\n",
       "</pre>\n"
      ],
      "text/plain": [
       "\u001b[1m Optimizer params: \u001b[0m\u001b[38;5;34m2\u001b[0m (12.00 B)\n"
      ]
     },
     "metadata": {},
     "output_type": "display_data"
    }
   ],
   "source": [
    "# Load the pre-trained model with ReLU activation\n",
    "model = load_model('simple_rnn_imdb.h5')\n",
    "model.summary()"
   ]
  },
  {
   "cell_type": "code",
   "execution_count": 17,
   "metadata": {},
   "outputs": [
    {
     "data": {
      "text/plain": [
       "[array([[ 0.17393214, -0.44684368,  0.62280893, ...,  0.28742427,\n",
       "          0.28624338,  0.8049325 ],\n",
       "        [ 0.00654289,  0.05138407,  0.05154897, ..., -0.03054497,\n",
       "         -0.00972561,  0.0712253 ],\n",
       "        [ 0.15840758, -0.08070477,  0.20088989, ...,  0.02832025,\n",
       "         -0.09985192,  0.23070583],\n",
       "        ...,\n",
       "        [ 0.04639717,  0.02120502,  0.02922123, ..., -0.07519429,\n",
       "          0.10669145,  0.05791495],\n",
       "        [-0.02818479, -0.00718576,  0.00379631, ..., -0.02057702,\n",
       "          0.02845438,  0.02466174],\n",
       "        [ 0.14449096,  0.14477865,  0.06329495, ..., -0.17200069,\n",
       "         -0.05201331, -0.17497903]], dtype=float32),\n",
       " array([[-0.04094233, -0.03891369, -0.11739599, ...,  0.00636712,\n",
       "          0.08728063, -0.12356791],\n",
       "        [-0.12305854,  0.19182108,  0.09285131, ...,  0.13272177,\n",
       "          0.00045583, -0.05414584],\n",
       "        [-0.10181843,  0.09405103, -0.17882113, ...,  0.01376074,\n",
       "         -0.03459685,  0.00256578],\n",
       "        ...,\n",
       "        [ 0.06820266,  0.04314218, -0.10009427, ...,  0.11967792,\n",
       "          0.0658395 , -0.18185544],\n",
       "        [-0.02208702,  0.09659337, -0.04620501, ..., -0.1252932 ,\n",
       "         -0.09495214, -0.05610977],\n",
       "        [-0.13730553,  0.15659484, -0.13152355, ...,  0.03108034,\n",
       "         -0.00217914, -0.03196016]], dtype=float32),\n",
       " array([[-0.03508775,  0.06204765, -0.0034116 , ...,  0.08374564,\n",
       "          0.01349963, -0.07402074],\n",
       "        [-0.05325978, -0.07436516,  0.11145715, ..., -0.04087087,\n",
       "         -0.11501797,  0.0953375 ],\n",
       "        [ 0.04711356, -0.11629342,  0.042313  , ...,  0.01911851,\n",
       "          0.01022117, -0.02131773],\n",
       "        ...,\n",
       "        [ 0.09954842, -0.08388564, -0.15176842, ..., -0.02139992,\n",
       "          0.01947049, -0.1206278 ],\n",
       "        [-0.02338906, -0.16861355, -0.0410702 , ...,  0.02469777,\n",
       "          0.0175252 ,  0.13277976],\n",
       "        [-0.12028165, -0.04297901, -0.11260208, ..., -0.03693401,\n",
       "          0.13819341, -0.03910053]], dtype=float32),\n",
       " array([-0.01491643,  0.02417251, -0.0177229 , -0.044247  , -0.0360282 ,\n",
       "         0.03093344,  0.02437203,  0.05829171, -0.04061616, -0.00032454,\n",
       "         0.02557126, -0.03159408,  0.01975431,  0.00308598, -0.00989455,\n",
       "        -0.05596042, -0.00914278, -0.0110992 , -0.0231644 , -0.01815695,\n",
       "         0.01544684,  0.01571552,  0.01648912,  0.01408077, -0.05063894,\n",
       "        -0.00563382, -0.00611397, -0.03139278, -0.02243213, -0.05229481,\n",
       "         0.01098534, -0.04208841,  0.01132648, -0.01835998, -0.02971853,\n",
       "        -0.04395191, -0.00278657, -0.04537103,  0.02110694, -0.00364506,\n",
       "        -0.04009972,  0.01355751, -0.02824838, -0.02703881,  0.00672782,\n",
       "         0.00990717,  0.01020259, -0.02789074, -0.01822669, -0.00567225,\n",
       "         0.00044718,  0.01337876, -0.02428062, -0.01783078, -0.0394779 ,\n",
       "        -0.04829889, -0.00644727, -0.00239412,  0.04103658, -0.041132  ,\n",
       "         0.00068378, -0.00783356,  0.02463534, -0.00954363, -0.04920401,\n",
       "        -0.02671714, -0.00462524, -0.05303853,  0.00291764, -0.02141604,\n",
       "         0.00145231, -0.01522176, -0.04956342,  0.03404457,  0.01195835,\n",
       "        -0.00362828, -0.01443142, -0.01408017,  0.02248072, -0.00214643,\n",
       "         0.02927715, -0.00546037, -0.02922882,  0.02657479, -0.01217297,\n",
       "        -0.00504936,  0.00470507, -0.00569095, -0.00903295,  0.0179723 ,\n",
       "         0.00486311, -0.01328263,  0.01419717,  0.00271736, -0.02030128,\n",
       "         0.00700003, -0.04070637, -0.00741939,  0.01656419, -0.03693311,\n",
       "        -0.03680097, -0.00385611, -0.01397951, -0.02388082,  0.02370943,\n",
       "         0.02031308, -0.03792747, -0.00692714, -0.01089285, -0.0129072 ,\n",
       "         0.01422438,  0.01767635, -0.02456148, -0.01830941,  0.00574785,\n",
       "         0.01047108, -0.05971972,  0.00774869,  0.05146516, -0.07420103,\n",
       "        -0.01688822,  0.00333282,  0.00068244,  0.02328855,  0.01006344,\n",
       "         0.0169189 ,  0.01255358, -0.0144301 ], dtype=float32),\n",
       " array([[-2.01292619e-01],\n",
       "        [-1.08894765e-01],\n",
       "        [ 1.14749536e-01],\n",
       "        [-8.92679393e-02],\n",
       "        [ 1.00262821e-01],\n",
       "        [-8.12544301e-02],\n",
       "        [-1.27388075e-01],\n",
       "        [ 2.24268630e-01],\n",
       "        [-1.17648661e-01],\n",
       "        [ 9.71448869e-02],\n",
       "        [ 1.91178709e-01],\n",
       "        [-1.57924965e-01],\n",
       "        [ 3.83240469e-02],\n",
       "        [-5.64646780e-01],\n",
       "        [ 7.19401240e-02],\n",
       "        [ 1.66937158e-01],\n",
       "        [-1.25524271e-02],\n",
       "        [ 3.49794105e-02],\n",
       "        [ 2.13872731e-01],\n",
       "        [-5.67549020e-02],\n",
       "        [ 7.58554339e-02],\n",
       "        [ 1.64500669e-01],\n",
       "        [-3.50494790e+00],\n",
       "        [ 9.68832299e-02],\n",
       "        [ 5.47974825e-01],\n",
       "        [-1.33570045e-01],\n",
       "        [ 1.68619603e-01],\n",
       "        [-2.76158869e-01],\n",
       "        [ 2.22832739e-01],\n",
       "        [ 8.20180178e-02],\n",
       "        [ 8.53834525e-02],\n",
       "        [-7.92074203e-02],\n",
       "        [ 1.60104990e-01],\n",
       "        [-2.17576072e-01],\n",
       "        [ 2.24732041e-01],\n",
       "        [-6.50679946e-01],\n",
       "        [-1.13016129e-01],\n",
       "        [-4.50879522e-02],\n",
       "        [ 2.15969440e-02],\n",
       "        [-5.62858321e-02],\n",
       "        [-3.19694638e-01],\n",
       "        [-6.27874136e-02],\n",
       "        [-4.01742131e-01],\n",
       "        [-2.43682429e-01],\n",
       "        [ 7.51461238e-02],\n",
       "        [ 1.39637277e-01],\n",
       "        [ 2.10704178e-01],\n",
       "        [ 2.11255372e-01],\n",
       "        [ 6.18318543e-02],\n",
       "        [-1.69553638e-01],\n",
       "        [-2.12384284e-01],\n",
       "        [ 1.73236310e-01],\n",
       "        [ 4.39417921e-03],\n",
       "        [-1.38862982e-01],\n",
       "        [ 1.42407462e-01],\n",
       "        [-2.10216209e-01],\n",
       "        [-2.46019912e+00],\n",
       "        [ 4.60896455e-02],\n",
       "        [ 2.01026499e-01],\n",
       "        [-4.19238299e-01],\n",
       "        [-1.84300840e-01],\n",
       "        [ 5.06903417e-02],\n",
       "        [ 2.88322330e-01],\n",
       "        [-2.40257233e-01],\n",
       "        [ 1.26166448e-01],\n",
       "        [ 2.80343950e-01],\n",
       "        [ 9.06821117e-02],\n",
       "        [ 3.43734436e-02],\n",
       "        [ 5.53379096e-02],\n",
       "        [ 1.46217078e-01],\n",
       "        [-2.15813920e-01],\n",
       "        [-1.35397455e-02],\n",
       "        [-3.91463041e-01],\n",
       "        [-2.02926636e-01],\n",
       "        [-4.75580283e-02],\n",
       "        [ 5.40648885e-02],\n",
       "        [-1.00015171e-01],\n",
       "        [ 1.25453129e-01],\n",
       "        [-5.51266223e-02],\n",
       "        [ 2.62171123e-02],\n",
       "        [-1.84894845e-01],\n",
       "        [ 2.54639506e-01],\n",
       "        [ 1.31802363e-02],\n",
       "        [-1.98622033e-01],\n",
       "        [ 2.04961449e-01],\n",
       "        [ 2.43387997e-01],\n",
       "        [ 1.01247085e-02],\n",
       "        [ 1.19097449e-01],\n",
       "        [ 2.71260850e-02],\n",
       "        [-2.16344848e-01],\n",
       "        [ 2.13930935e-01],\n",
       "        [-1.78371191e-01],\n",
       "        [-1.58558905e-01],\n",
       "        [ 2.23644882e-01],\n",
       "        [-2.67651677e-01],\n",
       "        [-1.53736532e-01],\n",
       "        [ 3.81487496e-02],\n",
       "        [ 4.08604927e-02],\n",
       "        [ 2.18800038e-01],\n",
       "        [-1.76342264e-01],\n",
       "        [ 2.59647459e-01],\n",
       "        [ 2.46708412e-02],\n",
       "        [ 1.68735415e-01],\n",
       "        [-1.67475700e-01],\n",
       "        [-1.45792708e-01],\n",
       "        [ 5.82935438e-02],\n",
       "        [ 1.23720013e-01],\n",
       "        [-2.12334655e-02],\n",
       "        [-1.32234007e-01],\n",
       "        [-1.14619575e-01],\n",
       "        [-1.52847260e-01],\n",
       "        [ 5.73398322e-02],\n",
       "        [ 5.46725914e-02],\n",
       "        [ 1.36177480e-01],\n",
       "        [ 1.06115282e-01],\n",
       "        [ 1.85884938e-01],\n",
       "        [ 9.87743661e-02],\n",
       "        [ 4.39367741e-02],\n",
       "        [ 1.84881815e-03],\n",
       "        [-1.55135207e-02],\n",
       "        [-1.43330902e-01],\n",
       "        [ 1.18235901e-01],\n",
       "        [-3.81866544e-02],\n",
       "        [ 1.54885814e-01],\n",
       "        [ 2.31980830e-01],\n",
       "        [ 1.13369860e-02],\n",
       "        [-1.82616219e-01],\n",
       "        [-5.38859256e-02]], dtype=float32),\n",
       " array([-2.2648845], dtype=float32)]"
      ]
     },
     "execution_count": 17,
     "metadata": {},
     "output_type": "execute_result"
    }
   ],
   "source": [
    "model.get_weights()"
   ]
  },
  {
   "cell_type": "code",
   "execution_count": 18,
   "metadata": {},
   "outputs": [],
   "source": [
    "# Step 2: Helper Functions\n",
    "# Function to decode reviews\n",
    "def decode_review(encoded_review):\n",
    "    return ' '.join([reverse_word_index.get(i - 3, '?') for i in encoded_review])\n",
    "\n",
    "# Function to preprocess user input\n",
    "def preprocess_text(text):\n",
    "    words = text.lower().split()\n",
    "    encoded_review = [word_index.get(word, 2) + 3 for word in words]\n",
    "    padded_review = sequence.pad_sequences([encoded_review], maxlen=500)\n",
    "    return padded_review"
   ]
  },
  {
   "cell_type": "code",
   "execution_count": 19,
   "metadata": {},
   "outputs": [],
   "source": [
    "### Prediction  function\n",
    "\n",
    "def predict_sentiment(review):\n",
    "    preprocessed_input=preprocess_text(review)\n",
    "\n",
    "    prediction=model.predict(preprocessed_input)\n",
    "\n",
    "    sentiment = 'Positive' if prediction[0][0] > 0.5 else 'Negative'\n",
    "    \n",
    "    return sentiment, prediction[0][0]\n",
    "\n"
   ]
  },
  {
   "cell_type": "code",
   "execution_count": null,
   "metadata": {},
   "outputs": [],
   "source": []
  },
  {
   "cell_type": "code",
   "execution_count": 25,
   "metadata": {},
   "outputs": [
    {
     "name": "stdout",
     "output_type": "stream",
     "text": [
      "\u001b[1m1/1\u001b[0m \u001b[32m━━━━━━━━━━━━━━━━━━━━\u001b[0m\u001b[37m\u001b[0m \u001b[1m0s\u001b[0m 27ms/step\n",
      "Review: This movie was fantastic! The acting was great and the plot was thrilling.\n",
      "Sentiment: Positive\n",
      "Prediction Score: 0.8976982235908508\n"
     ]
    }
   ],
   "source": [
    "# Step 4: User Input and Prediction\n",
    "# Example review for prediction\n",
    "example_review = \"This movie was fantastic! The acting was great and the plot was thrilling.\"\n",
    "\n",
    "sentiment,score=predict_sentiment(example_review)\n",
    "\n",
    "print(f'Review: {example_review}')\n",
    "print(f'Sentiment: {sentiment}')\n",
    "print(f'Prediction Score: {score}')"
   ]
  },
  {
   "cell_type": "code",
   "execution_count": null,
   "metadata": {},
   "outputs": [],
   "source": []
  },
  {
   "cell_type": "code",
   "execution_count": null,
   "metadata": {},
   "outputs": [],
   "source": []
  },
  {
   "cell_type": "code",
   "execution_count": null,
   "metadata": {},
   "outputs": [],
   "source": []
  },
  {
   "cell_type": "code",
   "execution_count": null,
   "metadata": {},
   "outputs": [],
   "source": []
  }
 ],
 "metadata": {
  "kernelspec": {
   "display_name": "churnenv",
   "language": "python",
   "name": "python3"
  },
  "language_info": {
   "codemirror_mode": {
    "name": "ipython",
    "version": 3
   },
   "file_extension": ".py",
   "mimetype": "text/x-python",
   "name": "python",
   "nbconvert_exporter": "python",
   "pygments_lexer": "ipython3",
   "version": "3.10.18"
  }
 },
 "nbformat": 4,
 "nbformat_minor": 2
}
